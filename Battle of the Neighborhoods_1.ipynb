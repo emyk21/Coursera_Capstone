{
 "cells": [
  {
   "cell_type": "markdown",
   "metadata": {},
   "source": [
    "INTRODUCTION/BUSINESS PROBLEM\n",
    "\n",
    "In Lagos, Nigeria, Chinese restaurants abound in several locations. However, due to their clientele base over 70% of these restaurants are congregated on the Lagos Island area and some are quite expensive to afford. A new Chinese restaurant franchise wants to make an entry into Lagos(which is the business capital of Nigeria) but would like to understand the terrain before choosing a specific location where they can locate their first branch.\n",
    "\n",
    "The problems they are faced with right now include;\n",
    "1. Information of their top 10 competitors presently.\n",
    "2. Where to locate the restaurant which should be central enough(i.e cinemas, hotels should be close by) and accessiblility to;\n",
    "  a. young adults in schools,universities.\n",
    "  b. relatively affordable to all classes in comparison to the Top 10 competitors."
   ]
  },
  {
   "cell_type": "code",
   "execution_count": null,
   "metadata": {},
   "outputs": [],
   "source": []
  }
 ],
 "metadata": {
  "kernelspec": {
   "display_name": "Python 3",
   "language": "python",
   "name": "python3"
  },
  "language_info": {
   "codemirror_mode": {
    "name": "ipython",
    "version": 3
   },
   "file_extension": ".py",
   "mimetype": "text/x-python",
   "name": "python",
   "nbconvert_exporter": "python",
   "pygments_lexer": "ipython3",
   "version": "3.7.6"
  }
 },
 "nbformat": 4,
 "nbformat_minor": 4
}
