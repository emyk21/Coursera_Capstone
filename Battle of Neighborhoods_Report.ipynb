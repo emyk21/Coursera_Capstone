{
 "cells": [
  {
   "cell_type": "markdown",
   "metadata": {},
   "source": [
    "## Introduction/Business Problem\n",
    "\n",
    "In Lagos, Nigeria, Chinese restaurants abound in several locations. However, due to their clientele base over 70% of these restaurants are congregated on the Lagos Island area and some are quite expensive to afford. A new Chinese restaurant franchise wants to make an entry into Lagos(which is the business capital of Nigeria) but would like to understand the terrain before choosing a specific location where they can locate their first branch.\n",
    "\n",
    "The problems they are faced with right now include;\n",
    "1. Information of their major competitors presently.\n",
    "2. Where to locate the restaurant which should be central enough(i.e movie theatres,parks,playground and hotels should be close by and accessiblility to;\n",
    "  * **young adults in schools,universities**.\n",
    "  * **relatively affordable to all classes in comparison to the competitors**."
   ]
  },
  {
   "cell_type": "markdown",
   "metadata": {},
   "source": [
    "## Data\n",
    "\n",
    "As defined by the introduction given, factors that will affect how to solve our problem statement will include:\n",
    "\n",
    "* **number of existing Chinese restaurants in Lagos**\n",
    "* **number of Chinese restaurants in Lagos and how clustered they are**\n",
    "* **availability of active venues such as parks and hotels in any suggested location for the situation of the Chinese restaurant**.\n"
   ]
  },
  {
   "cell_type": "markdown",
   "metadata": {},
   "source": [
    "## Methodology\n",
    "\n",
    "In this project our focus will be set on locating all available Chinese restaurants by using the Foursquare API to determine the Chinese restaurants located around the Lagos'geospatial coordinates information provided by Foursquare.\n",
    "\n",
    "We will make use of the Foursquare API to search for all restaurants within a radius of 40km, convert it to a pandas dataframe and wrangle it accordingly.\n",
    "\n",
    "Afterwards, the venues around the Chinese restaurants dataset will be explored to determine the busiest restaurants and how centered or far away the new restaurant can be located while still proffering a solution to our problem statement.\n",
    "\n",
    "Finally, the K-meeans Machine Learning algorithm will be applied to the dataset to determine the best fitting cluster into which the Chinese restaurant can be recommended to fall in. "
   ]
  },
  {
   "cell_type": "markdown",
   "metadata": {},
   "source": [
    "## Analysis\n",
    "\n",
    "Firstly, we get the latitude and longitude of Lagos by using *Geopy* imported from the Python library after being installed.The *url*(universal resource locator) for accessing the Foursquare API was defined and then our first request was made after inputting our credentials.\n",
    "\n",
    "The data was received in *.json* format which we converted into a dataframe with which we could work with by using the *pandas* library in Python.\n",
    "\n",
    "\n",
    "The dataframe was generated and 29 rows and 19 columns were returned. Data cleaning and wrangling was carried out and columns not needed were discarded as well as any sample that returns any other Chinese establishment other than a restaurant were also removed.\n",
    "\n",
    "A complete list of all the Chinese restaurants was then published with the accepted columns. *Folium*, another Python library is then made use of to generate the map showing all the Chinese restaurants that are being considered."
   ]
  },
  {
   "cell_type": "markdown",
   "metadata": {},
   "source": [
    "After generating the map and observing the location of the restaurants, we decide to explore venues around the eventual 27 Chinese restaurants derived after cleaning. The Foursquare API is made use of again to get this information, parsed into the pandas dataframe and 320 venues across 90 categories are generated."
   ]
  },
  {
   "cell_type": "markdown",
   "metadata": {},
   "source": [
    "One-hot encoding is then carried out on the Venues dataset as well as addition of the name of each of the Chinese restaurant being considered to the Venues dataset."
   ]
  },
  {
   "cell_type": "markdown",
   "metadata": {},
   "source": [
    "The mean of the frequency of occurence of each category is calculated and a shape of 27 rows, 93 columns is returned. Afterwards, the 10 most common venues for each of these restaurants is requested for using Foursquare API again and the .json data is converted to a pandas dataframe."
   ]
  },
  {
   "cell_type": "markdown",
   "metadata": {},
   "source": [
    "At this point, K-means Machine Learning clustering algorithm is applied and kclusters is set to 5. Before application, the 'Name' column is dropped from the dataset used after executing the one-hot encoding process.\n",
    "\n",
    "After application, an array showing the labels for the first 10 Chinese restaurants is generated. The labels are then added to our initial dataset that contained only the names,latitudes and longitudes of the Chinese restaurants. This datatset is then merged with the dataset containing the 10 Most Common Venues and the resulting dataset is displayed."
   ]
  },
  {
   "cell_type": "markdown",
   "metadata": {},
   "source": [
    "The resulting dataset returns a shape of 28 rows and 17 columns. A Folium map is generated showing the clusters generated across the dataset by using specific colour codes for each cluster and labelling each appropriately on the map."
   ]
  },
  {
   "cell_type": "markdown",
   "metadata": {},
   "source": [
    "## Results"
   ]
  },
  {
   "cell_type": "markdown",
   "metadata": {},
   "source": [
    "Our analysis shows that within a radius of 40km, 29 results indicating most to be Chinese restaurants were discovered to be found in the Lagos City axis of Nigeria. After carefully observing the data, it was realised that two results were not related to 'Chinese restaurant' and were therefore removed. This left us with 27 Chinese restaurants that were eventually visualised using the Folium map.\n",
    "\n",
    "On the map, one could easily tell that 17 of these restaurants were centered on the Lagos Island which suggests the kind of clientele these establishments tend to as the Lagos Island is one of the most expensive areas in Nigeria where many opulent Nigerians reside.\n",
    "\n",
    "The others were scattered across Lagos state from Ikeja to Surulere and even Festac. These locations look promising as our aim is to establish a more affordable Chinese restaurant in a not too expensive neighbourhood.\n",
    "\n",
    "After requesting for the data showing the 10 most common venues around the 27 restaurants and one-hot encoding it to determine the mean of the frequency of occurence of each category, we discover 320 venues which fell under 90 unique categories indicating that these restaurants are situated in areas where many other commercial activities take place.\n",
    "\n",
    "Looking further, categories showing the first and second most common venues included restaurants(African, Inidan, Thai cuisines), grocery stores, hotels, shopping malls and cafes amongst others.\n",
    "\n",
    "We then went on to run the K-means clustering on the Chinese restaurants using a K-cluster of five. The results showed the grouping of all restaurants into Clusters A,B,C,D and E."
   ]
  },
  {
   "cell_type": "markdown",
   "metadata": {},
   "source": [
    "## Discussion"
   ]
  },
  {
   "cell_type": "markdown",
   "metadata": {},
   "source": [
    "In Cluster A, three restaurants are presented; Chinese Cuisine & Fast Food, Yaba, Lihao Chinese Restaurant,Yaba and Triple J Chinese Restaurant, Maryland. When observed further, one can see that all three have nightclubs,hotels,food courts, shoppping malls,movie theaters,African restaurants, convenience/grocery stores etc as the most common venues.This could suggest that these restaurants will have lots of customers in the evening time as well as young people due to the numerous malls and movie theaters.\n",
    "\n",
    "In Cluster B, 10 results are returned. These include; Zen Garden Chinese Resturant,Ikeja, Marco Polo Chinese Restaurant,Lagos Island, Hua Han Chinese Restaurant,Ikeja, Mega Chicken Chinese Restaurant,Festac amongst others. The most common venues around these restaurants include;restaurants(African,Indian,Thai),hotels,bistros,cafes,bars etc. This suggests these restaurants will be in high demand and a bit pricey.\n",
    "\n",
    "In Cluster C, 13 Chinese restaurants were grouped. They include;Jagzee chow chinese,Lagos Island, Sunrise Chinese Restaurant,Ikeja, Double Zero Chinese Restaurant,Apapa, Zaboom Exclusive Bar, Restaurant & Chinese Cuisine, Surulere, Chinaville Chinese Restaurant,VI, Georges Chinese Cuisine,Ikoyi amongst others. At a glance, we can tell that the most common venues are hotels, fast food restaurants,restaurants(African,Indian,Chinese), soccer fields, cricket grounds, bars, parks,cafes,gym/fitness centers,lounges etc. This cluster will have most of the middle class population patronising them.\n",
    "\n",
    "For Cluster D, only one result is returned;a Chinese restaurant located around New hall of the University of Lagos, Akoka. The most common venues around it include bars, bakery, grocery/convenience stores, fast food restaurants,food courts etc.This is best fit for students as it is located in a university.\n",
    "\n",
    "In Cluster E, only one result is returned as well.The Zenith Chinese Restaurant, Surulere has its most common venues to be flea market, bus stations,Chinese restaurant,diner, cricket ground etc. This cluster is similar to Cluster C with the exception of the bus stations.\n",
    "\n",
    "After considering each of these clusters and considering our problem statement, we can deduce that locations in Clusters A and D will help us determine the best location for the new Chinese restaurant. These two clusters cater to a large percentage of the younger population and is well situated around movie theatres,hotels,nightclubs which also indicates a lot of night activity quite peculiar to the younger generation. Also, in terms of affordability, the best cluster to consider is Cluster A and Cluster D as a lot of foreign restaurants exist in Clusters B and C which could indicate the fact that a lot of foreign nationals/expatriates reside or work in venues located around those clusters.\n",
    "\n",
    "Looking further deeper, two of the restaurants located in Cluster A are found in the Yaba axis of Lagos which is also where the University of Lagos is located. Therefore it's safe to say that the best location for the new Chinese restaurant that will provide access to students and still remain affordable is anywhere around Yaba, Maryland and Surulere in Lagos."
   ]
  },
  {
   "cell_type": "markdown",
   "metadata": {},
   "source": [
    "## Conclusion"
   ]
  },
  {
   "cell_type": "markdown",
   "metadata": {},
   "source": [
    "The purpose of this project was to use location data to help determine the best location for a new Chinese restaurant about to make an entrance into Lagos state, Nigeria. The stakeholders also wanted to cater to a specific clientele base consisting of majorly, the younger generation as patronisers and therefore the onus lied on them to make it quite affordable. \n",
    "\n",
    "We made use of Foursquare API to spool out all existing Chinese restaurants in Lagos as at April, 2021 and visualised them to know where they are located in Lagos. Popular venues visited by people around these restaurants were spooled out as well. The K-means unsupervised Machine Learning Clustering algorithm was then applied and five clusters were generated.\n",
    "\n",
    "From the clusters, we were able to deduce the restaurants catering for the people living and working in the highbrow areas and middle-class areas.Also, the most common venues visited by people in these clusters helped us realise how affordable things could be in a specific cluster. This assisted in helping us determine locations where young people(middle-class) abound and we discovered this to be in areas surrounding, Maryland, Yaba and Surulere axis of Lagos. "
   ]
  },
  {
   "cell_type": "code",
   "execution_count": null,
   "metadata": {},
   "outputs": [],
   "source": []
  }
 ],
 "metadata": {
  "kernelspec": {
   "display_name": "Python 3",
   "language": "python",
   "name": "python3"
  },
  "language_info": {
   "codemirror_mode": {
    "name": "ipython",
    "version": 3
   },
   "file_extension": ".py",
   "mimetype": "text/x-python",
   "name": "python",
   "nbconvert_exporter": "python",
   "pygments_lexer": "ipython3",
   "version": "3.7.6"
  }
 },
 "nbformat": 4,
 "nbformat_minor": 4
}
